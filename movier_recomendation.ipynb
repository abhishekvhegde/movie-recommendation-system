{
 "cells": [
  {
   "cell_type": "code",
   "execution_count": null,
   "id": "f74c8a60",
   "metadata": {},
   "outputs": [],
   "source": [
    "import pandas as pd\n",
    "import numpy as np\n",
    "from sklearn.feature_extraction.text import TfidfVectorizer\n",
    "import difflib\n",
    "from sklearn.metrics.pairwise import cosine_similarity"
   ]
  },
  {
   "cell_type": "code",
   "execution_count": null,
   "id": "78772298",
   "metadata": {},
   "outputs": [],
   "source": [
    "movies_data=pd.read_csv('movies.csv')\n",
    "movies_data.head()"
   ]
  },
  {
   "cell_type": "code",
   "execution_count": null,
   "id": "c7ed0eef",
   "metadata": {},
   "outputs": [],
   "source": [
    "movies_data.shape"
   ]
  },
  {
   "cell_type": "code",
   "execution_count": null,
   "id": "f5b9a3ff",
   "metadata": {},
   "outputs": [],
   "source": [
    "selected_features=['genres','keywords','tagline','cast','director']"
   ]
  },
  {
   "cell_type": "code",
   "execution_count": null,
   "id": "358a1bf3",
   "metadata": {},
   "outputs": [],
   "source": [
    "for feature in selected_features:\n",
    "    movies_data[feature]=movies_data[feature].fillna('')"
   ]
  },
  {
   "cell_type": "code",
   "execution_count": null,
   "id": "04681cbe",
   "metadata": {},
   "outputs": [],
   "source": [
    "combined_features= movies_data['genres']+movies_data['keywords']+ movies_data['tagline'] + movies_data['cast'] + movies_data['director']\n",
    "print(combined_features)"
   ]
  },
  {
   "cell_type": "code",
   "execution_count": null,
   "id": "7522ab01",
   "metadata": {},
   "outputs": [],
   "source": [
    "vectorizer=TfidfVectorizer()"
   ]
  },
  {
   "cell_type": "code",
   "execution_count": null,
   "id": "0c999137",
   "metadata": {},
   "outputs": [],
   "source": [
    "vector_features=vectorizer.fit_transform(combined_features)"
   ]
  },
  {
   "cell_type": "code",
   "execution_count": null,
   "id": "6f9e1a09",
   "metadata": {},
   "outputs": [],
   "source": [
    "print(vector_features)"
   ]
  },
  {
   "cell_type": "code",
   "execution_count": null,
   "id": "f2ff8e5b",
   "metadata": {},
   "outputs": [],
   "source": [
    "similarity= cosine_similarity(vector_features)"
   ]
  },
  {
   "cell_type": "code",
   "execution_count": null,
   "id": "1b2dde1f",
   "metadata": {},
   "outputs": [],
   "source": [
    "print(similarity)"
   ]
  },
  {
   "cell_type": "code",
   "execution_count": null,
   "id": "f4b27d6a",
   "metadata": {},
   "outputs": [],
   "source": [
    "similarity.shape"
   ]
  },
  {
   "cell_type": "code",
   "execution_count": null,
   "id": "e0bc5ddb",
   "metadata": {},
   "outputs": [],
   "source": [
    "movie_name=input(\"enter the movie name : \")"
   ]
  },
  {
   "cell_type": "code",
   "execution_count": null,
   "id": "9f5206dd",
   "metadata": {},
   "outputs": [],
   "source": [
    "movie_title=movies_data['title'].tolist()\n",
    "movie_title"
   ]
  },
  {
   "cell_type": "code",
   "execution_count": null,
   "id": "29ed22b5",
   "metadata": {},
   "outputs": [],
   "source": [
    "close_match= difflib.get_close_matches(movie_name,movie_title)"
   ]
  },
  {
   "cell_type": "code",
   "execution_count": null,
   "id": "d18cf053",
   "metadata": {},
   "outputs": [],
   "source": [
    "print(close_match)"
   ]
  },
  {
   "cell_type": "code",
   "execution_count": null,
   "id": "44466434",
   "metadata": {},
   "outputs": [],
   "source": [
    "close_match= close_match[0]"
   ]
  },
  {
   "cell_type": "code",
   "execution_count": null,
   "id": "1ef1cd2d",
   "metadata": {},
   "outputs": [],
   "source": [
    "index_of_movie= movies_data[movies_data.title==close_match]['index'].values[0]\n",
    "print(index_of_movie)"
   ]
  },
  {
   "cell_type": "code",
   "execution_count": null,
   "id": "2e44e369",
   "metadata": {},
   "outputs": [],
   "source": []
  },
  {
   "cell_type": "code",
   "execution_count": null,
   "id": "6ed5fc47",
   "metadata": {},
   "outputs": [],
   "source": [
    "\n"
   ]
  },
  {
   "cell_type": "code",
   "execution_count": null,
   "id": "1ddeec9e",
   "metadata": {},
   "outputs": [],
   "source": [
    "#getting a list of similar movies\n",
    "similarity_score=list(enumerate(similarity[index_of_movie]))"
   ]
  },
  {
   "cell_type": "code",
   "execution_count": null,
   "id": "5171257c",
   "metadata": {},
   "outputs": [],
   "source": [
    "print(similarity_score)"
   ]
  },
  {
   "cell_type": "code",
   "execution_count": null,
   "id": "f48b701c",
   "metadata": {},
   "outputs": [],
   "source": [
    "#sorting movies based on their similarity scores\n",
    "sorted_similar_movies=sorted(similarity_score, key=lambda x:x[1],reverse=True)\n",
    "print(sorted_similar_movies)"
   ]
  },
  {
   "cell_type": "code",
   "execution_count": null,
   "id": "192c3ddf",
   "metadata": {},
   "outputs": [],
   "source": [
    "#print the top movies\n",
    "print('the movie suggested for you is:  ')\n",
    "i=1\n",
    "for movies in sorted_similar_movies:\n",
    "    index=movies[0]\n",
    "    title_from_index=movies_data[movies_data.index==index]['title'].values[0]\n",
    "    if (i<11):\n",
    "        print(i,'.',title_from_index)\n",
    "        i+=1"
   ]
  },
  {
   "cell_type": "code",
   "execution_count": null,
   "id": "44f0437b",
   "metadata": {},
   "outputs": [],
   "source": [
    "#final draft\n",
    "movie_name=input(\"enter the movie name : \")\n",
    "movie_title=movies_data['title'].tolist()\n",
    "close_match= difflib.get_close_matches(movie_name,movie_title)\n",
    "close_match= close_match[0]\n",
    "index_of_movie= movies_data[movies_data.title==close_match]['index'].values[0]\n",
    "similarity_score=list(enumerate(similarity[index_of_movie]))\n",
    "sorted_similar_movies=sorted(similarity_score, key=lambda x:x[1],reverse=True)\n",
    "print('the movie suggested for you is:  ')\n",
    "i=1\n",
    "for movies in sorted_similar_movies:\n",
    "    index=movies[0]\n",
    "    title_from_index=movies_data[movies_data.index==index]['title'].values[0]\n",
    "    if (i<11):\n",
    "        print(i,'.',title_from_index)\n",
    "        i+=1"
   ]
  },
  {
   "cell_type": "code",
   "execution_count": null,
   "id": "e3dc6a78",
   "metadata": {},
   "outputs": [],
   "source": []
  },
  {
   "cell_type": "code",
   "execution_count": null,
   "id": "3fb28cb9",
   "metadata": {},
   "outputs": [],
   "source": []
  },
  {
   "cell_type": "code",
   "execution_count": null,
   "id": "7407d7be",
   "metadata": {},
   "outputs": [],
   "source": []
  }
 ],
 "metadata": {
  "kernelspec": {
   "display_name": "Python 3 (ipykernel)",
   "language": "python",
   "name": "python3"
  },
  "language_info": {
   "codemirror_mode": {
    "name": "ipython",
    "version": 3
   },
   "file_extension": ".py",
   "mimetype": "text/x-python",
   "name": "python",
   "nbconvert_exporter": "python",
   "pygments_lexer": "ipython3",
   "version": "3.9.12"
  }
 },
 "nbformat": 4,
 "nbformat_minor": 5
}
